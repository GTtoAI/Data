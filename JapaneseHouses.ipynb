{
 "cells": [
  {
   "cell_type": "code",
   "execution_count": 1,
   "id": "952264c7-2559-4848-92ee-b6a7bd7064db",
   "metadata": {
    "tags": []
   },
   "outputs": [],
   "source": [
    "import pandas as pd"
   ]
  },
  {
   "cell_type": "code",
   "execution_count": 5,
   "id": "3038f5f3-f408-4a2d-863c-2938c23a2d73",
   "metadata": {
    "tags": []
   },
   "outputs": [
    {
     "name": "stderr",
     "output_type": "stream",
     "text": [
      "C:\\Users\\Deepika Dutt\\AppData\\Local\\Temp\\ipykernel_24280\\2322174321.py:1: DtypeWarning: Columns (12,26,36) have mixed types. Specify dtype option on import or set low_memory=False.\n",
      "  data = pd.read_csv('Housing Data.csv')\n"
     ]
    }
   ],
   "source": [
    "data = pd.read_csv('Housing Data.csv')"
   ]
  },
  {
   "cell_type": "code",
   "execution_count": 6,
   "id": "330ccbe1-1b84-4463-b25c-b39f07191645",
   "metadata": {
    "tags": []
   },
   "outputs": [
    {
     "data": {
      "text/html": [
       "<div>\n",
       "<style scoped>\n",
       "    .dataframe tbody tr th:only-of-type {\n",
       "        vertical-align: middle;\n",
       "    }\n",
       "\n",
       "    .dataframe tbody tr th {\n",
       "        vertical-align: top;\n",
       "    }\n",
       "\n",
       "    .dataframe thead th {\n",
       "        text-align: right;\n",
       "    }\n",
       "</style>\n",
       "<table border=\"1\" class=\"dataframe\">\n",
       "  <thead>\n",
       "    <tr style=\"text-align: right;\">\n",
       "      <th></th>\n",
       "      <th>No</th>\n",
       "      <th>Type</th>\n",
       "      <th>Region</th>\n",
       "      <th>MunicipalityCode</th>\n",
       "      <th>Prefecture</th>\n",
       "      <th>Municipality</th>\n",
       "      <th>DistrictName</th>\n",
       "      <th>NearestStation</th>\n",
       "      <th>TimeToNearestStation</th>\n",
       "      <th>MinTimeToNearestStation</th>\n",
       "      <th>...</th>\n",
       "      <th>Classification</th>\n",
       "      <th>Breadth</th>\n",
       "      <th>CityPlanning</th>\n",
       "      <th>CoverageRatio</th>\n",
       "      <th>FloorAreaRatio</th>\n",
       "      <th>Period</th>\n",
       "      <th>Year</th>\n",
       "      <th>Quarter</th>\n",
       "      <th>Renovation</th>\n",
       "      <th>Remarks</th>\n",
       "    </tr>\n",
       "  </thead>\n",
       "  <tbody>\n",
       "    <tr>\n",
       "      <th>0</th>\n",
       "      <td>1</td>\n",
       "      <td>Residential Land(Land and Building)</td>\n",
       "      <td>Residential Area</td>\n",
       "      <td>2201</td>\n",
       "      <td>Aomori Prefecture</td>\n",
       "      <td>Aomori City</td>\n",
       "      <td>Aoba</td>\n",
       "      <td>Aomori</td>\n",
       "      <td>30-60minutes</td>\n",
       "      <td>30.0</td>\n",
       "      <td>...</td>\n",
       "      <td>City Road</td>\n",
       "      <td>9.5</td>\n",
       "      <td>Category I Exclusively Low-story Residential Zone</td>\n",
       "      <td>50.0</td>\n",
       "      <td>80.0</td>\n",
       "      <td>4th quarter 2018</td>\n",
       "      <td>2018</td>\n",
       "      <td>4</td>\n",
       "      <td>NaN</td>\n",
       "      <td>NaN</td>\n",
       "    </tr>\n",
       "    <tr>\n",
       "      <th>1</th>\n",
       "      <td>2</td>\n",
       "      <td>Residential Land(Land and Building)</td>\n",
       "      <td>Residential Area</td>\n",
       "      <td>2201</td>\n",
       "      <td>Aomori Prefecture</td>\n",
       "      <td>Aomori City</td>\n",
       "      <td>Aoba</td>\n",
       "      <td>Aomori</td>\n",
       "      <td>30-60minutes</td>\n",
       "      <td>30.0</td>\n",
       "      <td>...</td>\n",
       "      <td>City Road</td>\n",
       "      <td>9.5</td>\n",
       "      <td>Category I Exclusively Low-story Residential Zone</td>\n",
       "      <td>50.0</td>\n",
       "      <td>80.0</td>\n",
       "      <td>2nd quarter 2018</td>\n",
       "      <td>2018</td>\n",
       "      <td>2</td>\n",
       "      <td>NaN</td>\n",
       "      <td>NaN</td>\n",
       "    </tr>\n",
       "    <tr>\n",
       "      <th>2</th>\n",
       "      <td>3</td>\n",
       "      <td>Residential Land(Land and Building)</td>\n",
       "      <td>Commercial Area</td>\n",
       "      <td>2201</td>\n",
       "      <td>Aomori Prefecture</td>\n",
       "      <td>Aomori City</td>\n",
       "      <td>Aoba</td>\n",
       "      <td>Aomori</td>\n",
       "      <td>30-60minutes</td>\n",
       "      <td>30.0</td>\n",
       "      <td>...</td>\n",
       "      <td>National Highway</td>\n",
       "      <td>24.0</td>\n",
       "      <td>Quasi-residential Zone</td>\n",
       "      <td>60.0</td>\n",
       "      <td>200.0</td>\n",
       "      <td>1st quarter 2014</td>\n",
       "      <td>2014</td>\n",
       "      <td>1</td>\n",
       "      <td>NaN</td>\n",
       "      <td>NaN</td>\n",
       "    </tr>\n",
       "    <tr>\n",
       "      <th>3</th>\n",
       "      <td>4</td>\n",
       "      <td>Residential Land(Land and Building)</td>\n",
       "      <td>Residential Area</td>\n",
       "      <td>2201</td>\n",
       "      <td>Aomori Prefecture</td>\n",
       "      <td>Aomori City</td>\n",
       "      <td>Aoba</td>\n",
       "      <td>Tsutsui (Aomori)</td>\n",
       "      <td>25</td>\n",
       "      <td>25.0</td>\n",
       "      <td>...</td>\n",
       "      <td>City Road</td>\n",
       "      <td>8.0</td>\n",
       "      <td>Category I Exclusively Low-story Residential Zone</td>\n",
       "      <td>50.0</td>\n",
       "      <td>80.0</td>\n",
       "      <td>2nd quarter 2018</td>\n",
       "      <td>2018</td>\n",
       "      <td>2</td>\n",
       "      <td>NaN</td>\n",
       "      <td>NaN</td>\n",
       "    </tr>\n",
       "    <tr>\n",
       "      <th>4</th>\n",
       "      <td>5</td>\n",
       "      <td>Residential Land(Land and Building)</td>\n",
       "      <td>Residential Area</td>\n",
       "      <td>2201</td>\n",
       "      <td>Aomori Prefecture</td>\n",
       "      <td>Aomori City</td>\n",
       "      <td>Aoba</td>\n",
       "      <td>Tsutsui (Aomori)</td>\n",
       "      <td>25</td>\n",
       "      <td>25.0</td>\n",
       "      <td>...</td>\n",
       "      <td>City Road</td>\n",
       "      <td>6.5</td>\n",
       "      <td>Category I Exclusively Medium-high Residential...</td>\n",
       "      <td>60.0</td>\n",
       "      <td>200.0</td>\n",
       "      <td>1st quarter 2018</td>\n",
       "      <td>2018</td>\n",
       "      <td>1</td>\n",
       "      <td>NaN</td>\n",
       "      <td>NaN</td>\n",
       "    </tr>\n",
       "  </tbody>\n",
       "</table>\n",
       "<p>5 rows × 38 columns</p>\n",
       "</div>"
      ],
      "text/plain": [
       "   No                                 Type            Region  \\\n",
       "0   1  Residential Land(Land and Building)  Residential Area   \n",
       "1   2  Residential Land(Land and Building)  Residential Area   \n",
       "2   3  Residential Land(Land and Building)   Commercial Area   \n",
       "3   4  Residential Land(Land and Building)  Residential Area   \n",
       "4   5  Residential Land(Land and Building)  Residential Area   \n",
       "\n",
       "   MunicipalityCode         Prefecture Municipality DistrictName  \\\n",
       "0              2201  Aomori Prefecture  Aomori City         Aoba   \n",
       "1              2201  Aomori Prefecture  Aomori City         Aoba   \n",
       "2              2201  Aomori Prefecture  Aomori City         Aoba   \n",
       "3              2201  Aomori Prefecture  Aomori City         Aoba   \n",
       "4              2201  Aomori Prefecture  Aomori City         Aoba   \n",
       "\n",
       "     NearestStation TimeToNearestStation  MinTimeToNearestStation  ...  \\\n",
       "0            Aomori         30-60minutes                     30.0  ...   \n",
       "1            Aomori         30-60minutes                     30.0  ...   \n",
       "2            Aomori         30-60minutes                     30.0  ...   \n",
       "3  Tsutsui (Aomori)                   25                     25.0  ...   \n",
       "4  Tsutsui (Aomori)                   25                     25.0  ...   \n",
       "\n",
       "     Classification  Breadth  \\\n",
       "0         City Road      9.5   \n",
       "1         City Road      9.5   \n",
       "2  National Highway     24.0   \n",
       "3         City Road      8.0   \n",
       "4         City Road      6.5   \n",
       "\n",
       "                                        CityPlanning  CoverageRatio  \\\n",
       "0  Category I Exclusively Low-story Residential Zone           50.0   \n",
       "1  Category I Exclusively Low-story Residential Zone           50.0   \n",
       "2                             Quasi-residential Zone           60.0   \n",
       "3  Category I Exclusively Low-story Residential Zone           50.0   \n",
       "4  Category I Exclusively Medium-high Residential...           60.0   \n",
       "\n",
       "   FloorAreaRatio            Period  Year Quarter  Renovation  Remarks  \n",
       "0            80.0  4th quarter 2018  2018       4         NaN      NaN  \n",
       "1            80.0  2nd quarter 2018  2018       2         NaN      NaN  \n",
       "2           200.0  1st quarter 2014  2014       1         NaN      NaN  \n",
       "3            80.0  2nd quarter 2018  2018       2         NaN      NaN  \n",
       "4           200.0  1st quarter 2018  2018       1         NaN      NaN  \n",
       "\n",
       "[5 rows x 38 columns]"
      ]
     },
     "execution_count": 6,
     "metadata": {},
     "output_type": "execute_result"
    }
   ],
   "source": [
    "data.head()"
   ]
  },
  {
   "cell_type": "code",
   "execution_count": 7,
   "id": "182764df-e877-4af1-8cad-dc132e94686a",
   "metadata": {
    "tags": []
   },
   "outputs": [
    {
     "data": {
      "text/plain": [
       "Index(['No', 'Type', 'Region', 'MunicipalityCode', 'Prefecture',\n",
       "       'Municipality', 'DistrictName', 'NearestStation',\n",
       "       'TimeToNearestStation', 'MinTimeToNearestStation',\n",
       "       'MaxTimeToNearestStation', 'TradePrice', 'FloorPlan', 'Area',\n",
       "       'AreaIsGreaterFlag', 'UnitPrice', 'PricePerTsubo', 'LandShape',\n",
       "       'Frontage', 'FrontageIsGreaterFlag', 'TotalFloorArea',\n",
       "       'TotalFloorAreaIsGreaterFlag', 'BuildingYear', 'PrewarBuilding',\n",
       "       'Structure', 'Use', 'Purpose', 'Direction', 'Classification', 'Breadth',\n",
       "       'CityPlanning', 'CoverageRatio', 'FloorAreaRatio', 'Period', 'Year',\n",
       "       'Quarter', 'Renovation', 'Remarks'],\n",
       "      dtype='object')"
      ]
     },
     "execution_count": 7,
     "metadata": {},
     "output_type": "execute_result"
    }
   ],
   "source": [
    "data.columns"
   ]
  },
  {
   "cell_type": "code",
   "execution_count": 8,
   "id": "23c3ad22-188a-4c99-88c9-5f2f109abacf",
   "metadata": {
    "tags": []
   },
   "outputs": [
    {
     "data": {
      "text/plain": [
       "No                                 0\n",
       "Type                               0\n",
       "Region                         20429\n",
       "MunicipalityCode                   0\n",
       "Prefecture                         0\n",
       "Municipality                       0\n",
       "DistrictName                      71\n",
       "NearestStation                 20542\n",
       "TimeToNearestStation           20576\n",
       "MinTimeToNearestStation        20576\n",
       "MaxTimeToNearestStation        23431\n",
       "TradePrice                         0\n",
       "FloorPlan                      51758\n",
       "Area                               0\n",
       "AreaIsGreaterFlag                  0\n",
       "UnitPrice                      34229\n",
       "PricePerTsubo                  34229\n",
       "LandShape                      20493\n",
       "Frontage                       23467\n",
       "FrontageIsGreaterFlag              0\n",
       "TotalFloorArea                 39426\n",
       "TotalFloorAreaIsGreaterFlag        0\n",
       "BuildingYear                   39224\n",
       "PrewarBuilding                     0\n",
       "Structure                      38936\n",
       "Use                            38977\n",
       "Purpose                        41177\n",
       "Direction                      20513\n",
       "Classification                 21391\n",
       "Breadth                        21491\n",
       "CityPlanning                   19916\n",
       "CoverageRatio                  23669\n",
       "FloorAreaRatio                 23669\n",
       "Period                             0\n",
       "Year                               0\n",
       "Quarter                            0\n",
       "Renovation                     51800\n",
       "Remarks                        49029\n",
       "dtype: int64"
      ]
     },
     "execution_count": 8,
     "metadata": {},
     "output_type": "execute_result"
    }
   ],
   "source": [
    "data.isnull().sum()  ## Check null values in each columns"
   ]
  },
  {
   "cell_type": "code",
   "execution_count": 9,
   "id": "2c8f3c15-d59e-4969-b4b0-1c1939306498",
   "metadata": {
    "tags": []
   },
   "outputs": [
    {
     "data": {
      "text/plain": [
       "52408"
      ]
     },
     "execution_count": 9,
     "metadata": {},
     "output_type": "execute_result"
    }
   ],
   "source": [
    "len(data)"
   ]
  },
  {
   "cell_type": "code",
   "execution_count": 10,
   "id": "0490f382-6958-4958-8a60-c5bdf3f716d8",
   "metadata": {
    "tags": []
   },
   "outputs": [],
   "source": [
    "null_info = data.isnull().sum()"
   ]
  },
  {
   "cell_type": "code",
   "execution_count": 12,
   "id": "20cf54b2-8237-47cd-a6d8-f9196957a059",
   "metadata": {
    "tags": []
   },
   "outputs": [
    {
     "data": {
      "text/plain": [
       "Index(['No', 'Type', 'Region', 'MunicipalityCode', 'Prefecture',\n",
       "       'Municipality', 'DistrictName', 'NearestStation',\n",
       "       'TimeToNearestStation', 'MinTimeToNearestStation',\n",
       "       'MaxTimeToNearestStation', 'TradePrice', 'FloorPlan', 'Area',\n",
       "       'AreaIsGreaterFlag', 'UnitPrice', 'PricePerTsubo', 'LandShape',\n",
       "       'Frontage', 'FrontageIsGreaterFlag', 'TotalFloorArea',\n",
       "       'TotalFloorAreaIsGreaterFlag', 'BuildingYear', 'PrewarBuilding',\n",
       "       'Structure', 'Use', 'Purpose', 'Direction', 'Classification', 'Breadth',\n",
       "       'CityPlanning', 'CoverageRatio', 'FloorAreaRatio', 'Period', 'Year',\n",
       "       'Quarter', 'Renovation', 'Remarks'],\n",
       "      dtype='object')"
      ]
     },
     "execution_count": 12,
     "metadata": {},
     "output_type": "execute_result"
    }
   ],
   "source": [
    "null_info.index"
   ]
  },
  {
   "cell_type": "code",
   "execution_count": 13,
   "id": "f21bd4ef-63d7-4837-a285-5bcca263f78f",
   "metadata": {
    "tags": []
   },
   "outputs": [
    {
     "data": {
      "text/plain": [
       "array([    0,     0, 20429,     0,     0,     0,    71, 20542, 20576,\n",
       "       20576, 23431,     0, 51758,     0,     0, 34229, 34229, 20493,\n",
       "       23467,     0, 39426,     0, 39224,     0, 38936, 38977, 41177,\n",
       "       20513, 21391, 21491, 19916, 23669, 23669,     0,     0,     0,\n",
       "       51800, 49029], dtype=int64)"
      ]
     },
     "execution_count": 13,
     "metadata": {},
     "output_type": "execute_result"
    }
   ],
   "source": [
    "null_info.values"
   ]
  },
  {
   "cell_type": "code",
   "execution_count": 14,
   "id": "332247df-9cd5-4502-9600-a3dbe1ce018c",
   "metadata": {
    "tags": []
   },
   "outputs": [
    {
     "name": "stdout",
     "output_type": "stream",
     "text": [
      "FloorPlan 51758\n",
      "UnitPrice 34229\n",
      "PricePerTsubo 34229\n",
      "TotalFloorArea 39426\n",
      "BuildingYear 39224\n",
      "Structure 38936\n",
      "Use 38977\n",
      "Purpose 41177\n",
      "Renovation 51800\n",
      "Remarks 49029\n"
     ]
    }
   ],
   "source": [
    "#getting all the columns with null values more than 27000\n",
    "columns_name = []\n",
    "for col_name, null_values in zip(null_info.index, null_info.values):\n",
    "    if null_values > 27000:\n",
    "        print(col_name, null_values)\n",
    "        columns_name.append(col_name)"
   ]
  },
  {
   "cell_type": "code",
   "execution_count": 15,
   "id": "25fb56f6-78cb-411c-b680-2df3814f96ab",
   "metadata": {
    "tags": []
   },
   "outputs": [
    {
     "data": {
      "text/plain": [
       "['FloorPlan',\n",
       " 'UnitPrice',\n",
       " 'PricePerTsubo',\n",
       " 'TotalFloorArea',\n",
       " 'BuildingYear',\n",
       " 'Structure',\n",
       " 'Use',\n",
       " 'Purpose',\n",
       " 'Renovation',\n",
       " 'Remarks']"
      ]
     },
     "execution_count": 15,
     "metadata": {},
     "output_type": "execute_result"
    }
   ],
   "source": [
    "columns_name "
   ]
  },
  {
   "cell_type": "code",
   "execution_count": 16,
   "id": "04489828-c8e9-4712-9067-cbf7fc277f7d",
   "metadata": {
    "tags": []
   },
   "outputs": [],
   "source": [
    "data2 = data.drop(columns_name, axis = 1)"
   ]
  },
  {
   "cell_type": "code",
   "execution_count": 18,
   "id": "0f5ca79a-7e50-40b4-9ee9-cfdb3f9c84e4",
   "metadata": {
    "tags": []
   },
   "outputs": [
    {
     "data": {
      "text/plain": [
       "No                                 0\n",
       "Type                               0\n",
       "Region                         20429\n",
       "MunicipalityCode                   0\n",
       "Prefecture                         0\n",
       "Municipality                       0\n",
       "DistrictName                      71\n",
       "NearestStation                 20542\n",
       "TimeToNearestStation           20576\n",
       "MinTimeToNearestStation        20576\n",
       "MaxTimeToNearestStation        23431\n",
       "TradePrice                         0\n",
       "Area                               0\n",
       "AreaIsGreaterFlag                  0\n",
       "LandShape                      20493\n",
       "Frontage                       23467\n",
       "FrontageIsGreaterFlag              0\n",
       "TotalFloorAreaIsGreaterFlag        0\n",
       "PrewarBuilding                     0\n",
       "Direction                      20513\n",
       "Classification                 21391\n",
       "Breadth                        21491\n",
       "CityPlanning                   19916\n",
       "CoverageRatio                  23669\n",
       "FloorAreaRatio                 23669\n",
       "Period                             0\n",
       "Year                               0\n",
       "Quarter                            0\n",
       "dtype: int64"
      ]
     },
     "execution_count": 18,
     "metadata": {},
     "output_type": "execute_result"
    }
   ],
   "source": [
    "data2.isnull().sum()"
   ]
  },
  {
   "cell_type": "code",
   "execution_count": 19,
   "id": "c12d7423-cdaf-4d36-bc6e-7628504eb857",
   "metadata": {
    "tags": []
   },
   "outputs": [],
   "source": [
    "data3 = data2.dropna()"
   ]
  },
  {
   "cell_type": "code",
   "execution_count": 20,
   "id": "6dcbf268-b9bd-4487-b64d-1f87b1bc6aaf",
   "metadata": {
    "tags": []
   },
   "outputs": [
    {
     "data": {
      "text/plain": [
       "No                             0\n",
       "Type                           0\n",
       "Region                         0\n",
       "MunicipalityCode               0\n",
       "Prefecture                     0\n",
       "Municipality                   0\n",
       "DistrictName                   0\n",
       "NearestStation                 0\n",
       "TimeToNearestStation           0\n",
       "MinTimeToNearestStation        0\n",
       "MaxTimeToNearestStation        0\n",
       "TradePrice                     0\n",
       "Area                           0\n",
       "AreaIsGreaterFlag              0\n",
       "LandShape                      0\n",
       "Frontage                       0\n",
       "FrontageIsGreaterFlag          0\n",
       "TotalFloorAreaIsGreaterFlag    0\n",
       "PrewarBuilding                 0\n",
       "Direction                      0\n",
       "Classification                 0\n",
       "Breadth                        0\n",
       "CityPlanning                   0\n",
       "CoverageRatio                  0\n",
       "FloorAreaRatio                 0\n",
       "Period                         0\n",
       "Year                           0\n",
       "Quarter                        0\n",
       "dtype: int64"
      ]
     },
     "execution_count": 20,
     "metadata": {},
     "output_type": "execute_result"
    }
   ],
   "source": [
    "data3.isnull().sum()"
   ]
  },
  {
   "cell_type": "code",
   "execution_count": 21,
   "id": "580d94b7-62fd-426b-bc8a-a93601ffb4f5",
   "metadata": {
    "tags": []
   },
   "outputs": [
    {
     "data": {
      "text/plain": [
       "23145"
      ]
     },
     "execution_count": 21,
     "metadata": {},
     "output_type": "execute_result"
    }
   ],
   "source": [
    "len(data3)"
   ]
  },
  {
   "cell_type": "markdown",
   "id": "53a19387-7344-449a-be09-29a3265fa2eb",
   "metadata": {},
   "source": [
    "#Mean"
   ]
  },
  {
   "cell_type": "code",
   "execution_count": 22,
   "id": "64eabf10-494e-4703-b421-d492e35d63cc",
   "metadata": {
    "tags": []
   },
   "outputs": [
    {
     "data": {
      "text/plain": [
       "No                                 0\n",
       "Type                               0\n",
       "Region                         20429\n",
       "MunicipalityCode                   0\n",
       "Prefecture                         0\n",
       "Municipality                       0\n",
       "DistrictName                      71\n",
       "NearestStation                 20542\n",
       "TimeToNearestStation           20576\n",
       "MinTimeToNearestStation        20576\n",
       "MaxTimeToNearestStation        23431\n",
       "TradePrice                         0\n",
       "FloorPlan                      51758\n",
       "Area                               0\n",
       "AreaIsGreaterFlag                  0\n",
       "UnitPrice                      34229\n",
       "PricePerTsubo                  34229\n",
       "LandShape                      20493\n",
       "Frontage                       23467\n",
       "FrontageIsGreaterFlag              0\n",
       "TotalFloorArea                 39426\n",
       "TotalFloorAreaIsGreaterFlag        0\n",
       "BuildingYear                   39224\n",
       "PrewarBuilding                     0\n",
       "Structure                      38936\n",
       "Use                            38977\n",
       "Purpose                        41177\n",
       "Direction                      20513\n",
       "Classification                 21391\n",
       "Breadth                        21491\n",
       "CityPlanning                   19916\n",
       "CoverageRatio                  23669\n",
       "FloorAreaRatio                 23669\n",
       "Period                             0\n",
       "Year                               0\n",
       "Quarter                            0\n",
       "Renovation                     51800\n",
       "Remarks                        49029\n",
       "dtype: int64"
      ]
     },
     "execution_count": 22,
     "metadata": {},
     "output_type": "execute_result"
    }
   ],
   "source": [
    "data.isnull().sum()"
   ]
  },
  {
   "cell_type": "code",
   "execution_count": 30,
   "id": "beefd919-7d22-4173-a149-af5232734f60",
   "metadata": {
    "tags": []
   },
   "outputs": [
    {
     "name": "stdout",
     "output_type": "stream",
     "text": [
      "<class 'pandas.core.series.Series'>\n",
      "RangeIndex: 52408 entries, 0 to 52407\n",
      "Series name: Frontage\n",
      "Non-Null Count  Dtype  \n",
      "--------------  -----  \n",
      "28941 non-null  float64\n",
      "dtypes: float64(1)\n",
      "memory usage: 409.6 KB\n"
     ]
    }
   ],
   "source": [
    "data.Frontage.info()"
   ]
  },
  {
   "cell_type": "code",
   "execution_count": 42,
   "id": "edcf2e71-2b55-4f35-bd90-4560af37555e",
   "metadata": {
    "tags": []
   },
   "outputs": [],
   "source": [
    "sample_data = data[['Frontage']]"
   ]
  },
  {
   "cell_type": "code",
   "execution_count": 43,
   "id": "541d40e5-2854-438f-a9d1-89fe1fd85db5",
   "metadata": {
    "tags": []
   },
   "outputs": [
    {
     "data": {
      "text/html": [
       "<div>\n",
       "<style scoped>\n",
       "    .dataframe tbody tr th:only-of-type {\n",
       "        vertical-align: middle;\n",
       "    }\n",
       "\n",
       "    .dataframe tbody tr th {\n",
       "        vertical-align: top;\n",
       "    }\n",
       "\n",
       "    .dataframe thead th {\n",
       "        text-align: right;\n",
       "    }\n",
       "</style>\n",
       "<table border=\"1\" class=\"dataframe\">\n",
       "  <thead>\n",
       "    <tr style=\"text-align: right;\">\n",
       "      <th></th>\n",
       "      <th>Frontage</th>\n",
       "    </tr>\n",
       "  </thead>\n",
       "  <tbody>\n",
       "    <tr>\n",
       "      <th>0</th>\n",
       "      <td>13.5</td>\n",
       "    </tr>\n",
       "    <tr>\n",
       "      <th>1</th>\n",
       "      <td>23.5</td>\n",
       "    </tr>\n",
       "    <tr>\n",
       "      <th>2</th>\n",
       "      <td>26.5</td>\n",
       "    </tr>\n",
       "    <tr>\n",
       "      <th>3</th>\n",
       "      <td>NaN</td>\n",
       "    </tr>\n",
       "    <tr>\n",
       "      <th>4</th>\n",
       "      <td>12.5</td>\n",
       "    </tr>\n",
       "    <tr>\n",
       "      <th>...</th>\n",
       "      <td>...</td>\n",
       "    </tr>\n",
       "    <tr>\n",
       "      <th>52403</th>\n",
       "      <td>NaN</td>\n",
       "    </tr>\n",
       "    <tr>\n",
       "      <th>52404</th>\n",
       "      <td>NaN</td>\n",
       "    </tr>\n",
       "    <tr>\n",
       "      <th>52405</th>\n",
       "      <td>NaN</td>\n",
       "    </tr>\n",
       "    <tr>\n",
       "      <th>52406</th>\n",
       "      <td>NaN</td>\n",
       "    </tr>\n",
       "    <tr>\n",
       "      <th>52407</th>\n",
       "      <td>NaN</td>\n",
       "    </tr>\n",
       "  </tbody>\n",
       "</table>\n",
       "<p>52408 rows × 1 columns</p>\n",
       "</div>"
      ],
      "text/plain": [
       "       Frontage\n",
       "0          13.5\n",
       "1          23.5\n",
       "2          26.5\n",
       "3           NaN\n",
       "4          12.5\n",
       "...         ...\n",
       "52403       NaN\n",
       "52404       NaN\n",
       "52405       NaN\n",
       "52406       NaN\n",
       "52407       NaN\n",
       "\n",
       "[52408 rows x 1 columns]"
      ]
     },
     "execution_count": 43,
     "metadata": {},
     "output_type": "execute_result"
    }
   ],
   "source": [
    "sample_data"
   ]
  },
  {
   "cell_type": "code",
   "execution_count": 44,
   "id": "02012ba9-ae74-4969-a50d-ecca47f9284f",
   "metadata": {
    "tags": []
   },
   "outputs": [
    {
     "data": {
      "text/plain": [
       "17.5476210220794"
      ]
     },
     "execution_count": 44,
     "metadata": {},
     "output_type": "execute_result"
    }
   ],
   "source": [
    "sample_data['Frontage'].mean()"
   ]
  },
  {
   "cell_type": "code",
   "execution_count": 45,
   "id": "ebc882d1-3659-4a24-b090-a78e7da72d18",
   "metadata": {
    "tags": []
   },
   "outputs": [
    {
     "name": "stderr",
     "output_type": "stream",
     "text": [
      "C:\\Users\\Deepika Dutt\\AppData\\Local\\Temp\\ipykernel_24280\\751483196.py:1: SettingWithCopyWarning: \n",
      "A value is trying to be set on a copy of a slice from a DataFrame.\n",
      "Try using .loc[row_indexer,col_indexer] = value instead\n",
      "\n",
      "See the caveats in the documentation: https://pandas.pydata.org/pandas-docs/stable/user_guide/indexing.html#returning-a-view-versus-a-copy\n",
      "  sample_data['Frontage_mean'] = sample_data['Frontage'].fillna(sample_data['Frontage'].mean())\n"
     ]
    }
   ],
   "source": [
    "sample_data['Frontage_mean'] = sample_data['Frontage'].fillna(sample_data['Frontage'].mean())"
   ]
  },
  {
   "cell_type": "code",
   "execution_count": 46,
   "id": "0a08e68a-a569-401e-8d56-262b4ead32f3",
   "metadata": {
    "tags": []
   },
   "outputs": [
    {
     "data": {
      "text/html": [
       "<div>\n",
       "<style scoped>\n",
       "    .dataframe tbody tr th:only-of-type {\n",
       "        vertical-align: middle;\n",
       "    }\n",
       "\n",
       "    .dataframe tbody tr th {\n",
       "        vertical-align: top;\n",
       "    }\n",
       "\n",
       "    .dataframe thead th {\n",
       "        text-align: right;\n",
       "    }\n",
       "</style>\n",
       "<table border=\"1\" class=\"dataframe\">\n",
       "  <thead>\n",
       "    <tr style=\"text-align: right;\">\n",
       "      <th></th>\n",
       "      <th>Frontage</th>\n",
       "      <th>Frontage_mean</th>\n",
       "    </tr>\n",
       "  </thead>\n",
       "  <tbody>\n",
       "    <tr>\n",
       "      <th>0</th>\n",
       "      <td>13.5</td>\n",
       "      <td>13.500000</td>\n",
       "    </tr>\n",
       "    <tr>\n",
       "      <th>1</th>\n",
       "      <td>23.5</td>\n",
       "      <td>23.500000</td>\n",
       "    </tr>\n",
       "    <tr>\n",
       "      <th>2</th>\n",
       "      <td>26.5</td>\n",
       "      <td>26.500000</td>\n",
       "    </tr>\n",
       "    <tr>\n",
       "      <th>3</th>\n",
       "      <td>NaN</td>\n",
       "      <td>17.547621</td>\n",
       "    </tr>\n",
       "    <tr>\n",
       "      <th>4</th>\n",
       "      <td>12.5</td>\n",
       "      <td>12.500000</td>\n",
       "    </tr>\n",
       "    <tr>\n",
       "      <th>...</th>\n",
       "      <td>...</td>\n",
       "      <td>...</td>\n",
       "    </tr>\n",
       "    <tr>\n",
       "      <th>52403</th>\n",
       "      <td>NaN</td>\n",
       "      <td>17.547621</td>\n",
       "    </tr>\n",
       "    <tr>\n",
       "      <th>52404</th>\n",
       "      <td>NaN</td>\n",
       "      <td>17.547621</td>\n",
       "    </tr>\n",
       "    <tr>\n",
       "      <th>52405</th>\n",
       "      <td>NaN</td>\n",
       "      <td>17.547621</td>\n",
       "    </tr>\n",
       "    <tr>\n",
       "      <th>52406</th>\n",
       "      <td>NaN</td>\n",
       "      <td>17.547621</td>\n",
       "    </tr>\n",
       "    <tr>\n",
       "      <th>52407</th>\n",
       "      <td>NaN</td>\n",
       "      <td>17.547621</td>\n",
       "    </tr>\n",
       "  </tbody>\n",
       "</table>\n",
       "<p>52408 rows × 2 columns</p>\n",
       "</div>"
      ],
      "text/plain": [
       "       Frontage  Frontage_mean\n",
       "0          13.5      13.500000\n",
       "1          23.5      23.500000\n",
       "2          26.5      26.500000\n",
       "3           NaN      17.547621\n",
       "4          12.5      12.500000\n",
       "...         ...            ...\n",
       "52403       NaN      17.547621\n",
       "52404       NaN      17.547621\n",
       "52405       NaN      17.547621\n",
       "52406       NaN      17.547621\n",
       "52407       NaN      17.547621\n",
       "\n",
       "[52408 rows x 2 columns]"
      ]
     },
     "execution_count": 46,
     "metadata": {},
     "output_type": "execute_result"
    }
   ],
   "source": [
    "sample_data"
   ]
  },
  {
   "cell_type": "code",
   "execution_count": 47,
   "id": "ccd9d095-6b99-44a4-ba0a-7ca50f6091f6",
   "metadata": {
    "tags": []
   },
   "outputs": [
    {
     "data": {
      "text/plain": [
       "14.5"
      ]
     },
     "execution_count": 47,
     "metadata": {},
     "output_type": "execute_result"
    }
   ],
   "source": [
    "sample_data['Frontage'].median()"
   ]
  },
  {
   "cell_type": "code",
   "execution_count": 48,
   "id": "ed56d1be-ff71-48ee-9ce9-1d32eda0df7f",
   "metadata": {
    "tags": []
   },
   "outputs": [
    {
     "name": "stderr",
     "output_type": "stream",
     "text": [
      "C:\\Users\\Deepika Dutt\\AppData\\Local\\Temp\\ipykernel_24280\\860936704.py:1: SettingWithCopyWarning: \n",
      "A value is trying to be set on a copy of a slice from a DataFrame.\n",
      "Try using .loc[row_indexer,col_indexer] = value instead\n",
      "\n",
      "See the caveats in the documentation: https://pandas.pydata.org/pandas-docs/stable/user_guide/indexing.html#returning-a-view-versus-a-copy\n",
      "  sample_data['Frontage_median'] = sample_data['Frontage'].fillna(sample_data['Frontage'].median())\n"
     ]
    }
   ],
   "source": [
    "sample_data['Frontage_median'] = sample_data['Frontage'].fillna(sample_data['Frontage'].median())"
   ]
  },
  {
   "cell_type": "code",
   "execution_count": 49,
   "id": "6662be47-f3e6-4a9e-9d59-ae1629cf716e",
   "metadata": {
    "tags": []
   },
   "outputs": [
    {
     "data": {
      "text/html": [
       "<div>\n",
       "<style scoped>\n",
       "    .dataframe tbody tr th:only-of-type {\n",
       "        vertical-align: middle;\n",
       "    }\n",
       "\n",
       "    .dataframe tbody tr th {\n",
       "        vertical-align: top;\n",
       "    }\n",
       "\n",
       "    .dataframe thead th {\n",
       "        text-align: right;\n",
       "    }\n",
       "</style>\n",
       "<table border=\"1\" class=\"dataframe\">\n",
       "  <thead>\n",
       "    <tr style=\"text-align: right;\">\n",
       "      <th></th>\n",
       "      <th>Frontage</th>\n",
       "      <th>Frontage_mean</th>\n",
       "      <th>Frontage_median</th>\n",
       "    </tr>\n",
       "  </thead>\n",
       "  <tbody>\n",
       "    <tr>\n",
       "      <th>0</th>\n",
       "      <td>13.5</td>\n",
       "      <td>13.500000</td>\n",
       "      <td>13.5</td>\n",
       "    </tr>\n",
       "    <tr>\n",
       "      <th>1</th>\n",
       "      <td>23.5</td>\n",
       "      <td>23.500000</td>\n",
       "      <td>23.5</td>\n",
       "    </tr>\n",
       "    <tr>\n",
       "      <th>2</th>\n",
       "      <td>26.5</td>\n",
       "      <td>26.500000</td>\n",
       "      <td>26.5</td>\n",
       "    </tr>\n",
       "    <tr>\n",
       "      <th>3</th>\n",
       "      <td>NaN</td>\n",
       "      <td>17.547621</td>\n",
       "      <td>14.5</td>\n",
       "    </tr>\n",
       "    <tr>\n",
       "      <th>4</th>\n",
       "      <td>12.5</td>\n",
       "      <td>12.500000</td>\n",
       "      <td>12.5</td>\n",
       "    </tr>\n",
       "    <tr>\n",
       "      <th>...</th>\n",
       "      <td>...</td>\n",
       "      <td>...</td>\n",
       "      <td>...</td>\n",
       "    </tr>\n",
       "    <tr>\n",
       "      <th>52403</th>\n",
       "      <td>NaN</td>\n",
       "      <td>17.547621</td>\n",
       "      <td>14.5</td>\n",
       "    </tr>\n",
       "    <tr>\n",
       "      <th>52404</th>\n",
       "      <td>NaN</td>\n",
       "      <td>17.547621</td>\n",
       "      <td>14.5</td>\n",
       "    </tr>\n",
       "    <tr>\n",
       "      <th>52405</th>\n",
       "      <td>NaN</td>\n",
       "      <td>17.547621</td>\n",
       "      <td>14.5</td>\n",
       "    </tr>\n",
       "    <tr>\n",
       "      <th>52406</th>\n",
       "      <td>NaN</td>\n",
       "      <td>17.547621</td>\n",
       "      <td>14.5</td>\n",
       "    </tr>\n",
       "    <tr>\n",
       "      <th>52407</th>\n",
       "      <td>NaN</td>\n",
       "      <td>17.547621</td>\n",
       "      <td>14.5</td>\n",
       "    </tr>\n",
       "  </tbody>\n",
       "</table>\n",
       "<p>52408 rows × 3 columns</p>\n",
       "</div>"
      ],
      "text/plain": [
       "       Frontage  Frontage_mean  Frontage_median\n",
       "0          13.5      13.500000             13.5\n",
       "1          23.5      23.500000             23.5\n",
       "2          26.5      26.500000             26.5\n",
       "3           NaN      17.547621             14.5\n",
       "4          12.5      12.500000             12.5\n",
       "...         ...            ...              ...\n",
       "52403       NaN      17.547621             14.5\n",
       "52404       NaN      17.547621             14.5\n",
       "52405       NaN      17.547621             14.5\n",
       "52406       NaN      17.547621             14.5\n",
       "52407       NaN      17.547621             14.5\n",
       "\n",
       "[52408 rows x 3 columns]"
      ]
     },
     "execution_count": 49,
     "metadata": {},
     "output_type": "execute_result"
    }
   ],
   "source": [
    "sample_data"
   ]
  },
  {
   "cell_type": "code",
   "execution_count": 50,
   "id": "90b3ac32-4847-4f21-bf35-91e9e220ff2f",
   "metadata": {
    "tags": []
   },
   "outputs": [
    {
     "data": {
      "text/plain": [
       "0    11.0\n",
       "Name: Frontage, dtype: float64"
      ]
     },
     "execution_count": 50,
     "metadata": {},
     "output_type": "execute_result"
    }
   ],
   "source": [
    "sample_data['Frontage'].mode()"
   ]
  },
  {
   "cell_type": "code",
   "execution_count": 51,
   "id": "1716e905-2711-4d46-8e44-f27115639d7e",
   "metadata": {
    "tags": []
   },
   "outputs": [
    {
     "data": {
      "text/plain": [
       "11.0"
      ]
     },
     "execution_count": 51,
     "metadata": {},
     "output_type": "execute_result"
    }
   ],
   "source": [
    "sample_data['Frontage'].mode()[0]"
   ]
  },
  {
   "cell_type": "code",
   "execution_count": 52,
   "id": "0e1c661c-2a4b-4e08-be6d-e1f958136293",
   "metadata": {
    "tags": []
   },
   "outputs": [
    {
     "name": "stderr",
     "output_type": "stream",
     "text": [
      "C:\\Users\\Deepika Dutt\\AppData\\Local\\Temp\\ipykernel_24280\\4099259024.py:1: SettingWithCopyWarning: \n",
      "A value is trying to be set on a copy of a slice from a DataFrame.\n",
      "Try using .loc[row_indexer,col_indexer] = value instead\n",
      "\n",
      "See the caveats in the documentation: https://pandas.pydata.org/pandas-docs/stable/user_guide/indexing.html#returning-a-view-versus-a-copy\n",
      "  sample_data['Frontage_mode'] = sample_data['Frontage'].fillna(sample_data['Frontage'].mode()[0])\n"
     ]
    }
   ],
   "source": [
    "sample_data['Frontage_mode'] = sample_data['Frontage'].fillna(sample_data['Frontage'].mode()[0])"
   ]
  },
  {
   "cell_type": "code",
   "execution_count": 53,
   "id": "618df55a-1aad-4ce8-8194-0a2242698855",
   "metadata": {
    "tags": []
   },
   "outputs": [
    {
     "data": {
      "text/html": [
       "<div>\n",
       "<style scoped>\n",
       "    .dataframe tbody tr th:only-of-type {\n",
       "        vertical-align: middle;\n",
       "    }\n",
       "\n",
       "    .dataframe tbody tr th {\n",
       "        vertical-align: top;\n",
       "    }\n",
       "\n",
       "    .dataframe thead th {\n",
       "        text-align: right;\n",
       "    }\n",
       "</style>\n",
       "<table border=\"1\" class=\"dataframe\">\n",
       "  <thead>\n",
       "    <tr style=\"text-align: right;\">\n",
       "      <th></th>\n",
       "      <th>Frontage</th>\n",
       "      <th>Frontage_mean</th>\n",
       "      <th>Frontage_median</th>\n",
       "      <th>Frontage_mode</th>\n",
       "    </tr>\n",
       "  </thead>\n",
       "  <tbody>\n",
       "    <tr>\n",
       "      <th>0</th>\n",
       "      <td>13.5</td>\n",
       "      <td>13.500000</td>\n",
       "      <td>13.5</td>\n",
       "      <td>13.5</td>\n",
       "    </tr>\n",
       "    <tr>\n",
       "      <th>1</th>\n",
       "      <td>23.5</td>\n",
       "      <td>23.500000</td>\n",
       "      <td>23.5</td>\n",
       "      <td>23.5</td>\n",
       "    </tr>\n",
       "    <tr>\n",
       "      <th>2</th>\n",
       "      <td>26.5</td>\n",
       "      <td>26.500000</td>\n",
       "      <td>26.5</td>\n",
       "      <td>26.5</td>\n",
       "    </tr>\n",
       "    <tr>\n",
       "      <th>3</th>\n",
       "      <td>NaN</td>\n",
       "      <td>17.547621</td>\n",
       "      <td>14.5</td>\n",
       "      <td>11.0</td>\n",
       "    </tr>\n",
       "    <tr>\n",
       "      <th>4</th>\n",
       "      <td>12.5</td>\n",
       "      <td>12.500000</td>\n",
       "      <td>12.5</td>\n",
       "      <td>12.5</td>\n",
       "    </tr>\n",
       "    <tr>\n",
       "      <th>...</th>\n",
       "      <td>...</td>\n",
       "      <td>...</td>\n",
       "      <td>...</td>\n",
       "      <td>...</td>\n",
       "    </tr>\n",
       "    <tr>\n",
       "      <th>52403</th>\n",
       "      <td>NaN</td>\n",
       "      <td>17.547621</td>\n",
       "      <td>14.5</td>\n",
       "      <td>11.0</td>\n",
       "    </tr>\n",
       "    <tr>\n",
       "      <th>52404</th>\n",
       "      <td>NaN</td>\n",
       "      <td>17.547621</td>\n",
       "      <td>14.5</td>\n",
       "      <td>11.0</td>\n",
       "    </tr>\n",
       "    <tr>\n",
       "      <th>52405</th>\n",
       "      <td>NaN</td>\n",
       "      <td>17.547621</td>\n",
       "      <td>14.5</td>\n",
       "      <td>11.0</td>\n",
       "    </tr>\n",
       "    <tr>\n",
       "      <th>52406</th>\n",
       "      <td>NaN</td>\n",
       "      <td>17.547621</td>\n",
       "      <td>14.5</td>\n",
       "      <td>11.0</td>\n",
       "    </tr>\n",
       "    <tr>\n",
       "      <th>52407</th>\n",
       "      <td>NaN</td>\n",
       "      <td>17.547621</td>\n",
       "      <td>14.5</td>\n",
       "      <td>11.0</td>\n",
       "    </tr>\n",
       "  </tbody>\n",
       "</table>\n",
       "<p>52408 rows × 4 columns</p>\n",
       "</div>"
      ],
      "text/plain": [
       "       Frontage  Frontage_mean  Frontage_median  Frontage_mode\n",
       "0          13.5      13.500000             13.5           13.5\n",
       "1          23.5      23.500000             23.5           23.5\n",
       "2          26.5      26.500000             26.5           26.5\n",
       "3           NaN      17.547621             14.5           11.0\n",
       "4          12.5      12.500000             12.5           12.5\n",
       "...         ...            ...              ...            ...\n",
       "52403       NaN      17.547621             14.5           11.0\n",
       "52404       NaN      17.547621             14.5           11.0\n",
       "52405       NaN      17.547621             14.5           11.0\n",
       "52406       NaN      17.547621             14.5           11.0\n",
       "52407       NaN      17.547621             14.5           11.0\n",
       "\n",
       "[52408 rows x 4 columns]"
      ]
     },
     "execution_count": 53,
     "metadata": {},
     "output_type": "execute_result"
    }
   ],
   "source": [
    "sample_data"
   ]
  },
  {
   "cell_type": "code",
   "execution_count": 54,
   "id": "a343fc91-f257-4219-849d-f0231c4a4241",
   "metadata": {
    "tags": []
   },
   "outputs": [
    {
     "name": "stderr",
     "output_type": "stream",
     "text": [
      "C:\\Users\\Deepika Dutt\\AppData\\Local\\Temp\\ipykernel_24280\\3827826846.py:1: SettingWithCopyWarning: \n",
      "A value is trying to be set on a copy of a slice from a DataFrame.\n",
      "Try using .loc[row_indexer,col_indexer] = value instead\n",
      "\n",
      "See the caveats in the documentation: https://pandas.pydata.org/pandas-docs/stable/user_guide/indexing.html#returning-a-view-versus-a-copy\n",
      "  sample_data['Frontage_ffill'] = sample_data['Frontage'].fillna(method = 'ffill')\n"
     ]
    }
   ],
   "source": [
    "sample_data['Frontage_ffill'] = sample_data['Frontage'].fillna(method = 'ffill')"
   ]
  },
  {
   "cell_type": "code",
   "execution_count": 55,
   "id": "57d56c07-6868-40d4-9b88-111b05979de4",
   "metadata": {
    "tags": []
   },
   "outputs": [
    {
     "data": {
      "text/html": [
       "<div>\n",
       "<style scoped>\n",
       "    .dataframe tbody tr th:only-of-type {\n",
       "        vertical-align: middle;\n",
       "    }\n",
       "\n",
       "    .dataframe tbody tr th {\n",
       "        vertical-align: top;\n",
       "    }\n",
       "\n",
       "    .dataframe thead th {\n",
       "        text-align: right;\n",
       "    }\n",
       "</style>\n",
       "<table border=\"1\" class=\"dataframe\">\n",
       "  <thead>\n",
       "    <tr style=\"text-align: right;\">\n",
       "      <th></th>\n",
       "      <th>Frontage</th>\n",
       "      <th>Frontage_mean</th>\n",
       "      <th>Frontage_median</th>\n",
       "      <th>Frontage_mode</th>\n",
       "      <th>Frontage_ffill</th>\n",
       "    </tr>\n",
       "  </thead>\n",
       "  <tbody>\n",
       "    <tr>\n",
       "      <th>0</th>\n",
       "      <td>13.5</td>\n",
       "      <td>13.500000</td>\n",
       "      <td>13.5</td>\n",
       "      <td>13.5</td>\n",
       "      <td>13.5</td>\n",
       "    </tr>\n",
       "    <tr>\n",
       "      <th>1</th>\n",
       "      <td>23.5</td>\n",
       "      <td>23.500000</td>\n",
       "      <td>23.5</td>\n",
       "      <td>23.5</td>\n",
       "      <td>23.5</td>\n",
       "    </tr>\n",
       "    <tr>\n",
       "      <th>2</th>\n",
       "      <td>26.5</td>\n",
       "      <td>26.500000</td>\n",
       "      <td>26.5</td>\n",
       "      <td>26.5</td>\n",
       "      <td>26.5</td>\n",
       "    </tr>\n",
       "    <tr>\n",
       "      <th>3</th>\n",
       "      <td>NaN</td>\n",
       "      <td>17.547621</td>\n",
       "      <td>14.5</td>\n",
       "      <td>11.0</td>\n",
       "      <td>26.5</td>\n",
       "    </tr>\n",
       "    <tr>\n",
       "      <th>4</th>\n",
       "      <td>12.5</td>\n",
       "      <td>12.500000</td>\n",
       "      <td>12.5</td>\n",
       "      <td>12.5</td>\n",
       "      <td>12.5</td>\n",
       "    </tr>\n",
       "    <tr>\n",
       "      <th>...</th>\n",
       "      <td>...</td>\n",
       "      <td>...</td>\n",
       "      <td>...</td>\n",
       "      <td>...</td>\n",
       "      <td>...</td>\n",
       "    </tr>\n",
       "    <tr>\n",
       "      <th>52403</th>\n",
       "      <td>NaN</td>\n",
       "      <td>17.547621</td>\n",
       "      <td>14.5</td>\n",
       "      <td>11.0</td>\n",
       "      <td>17.5</td>\n",
       "    </tr>\n",
       "    <tr>\n",
       "      <th>52404</th>\n",
       "      <td>NaN</td>\n",
       "      <td>17.547621</td>\n",
       "      <td>14.5</td>\n",
       "      <td>11.0</td>\n",
       "      <td>17.5</td>\n",
       "    </tr>\n",
       "    <tr>\n",
       "      <th>52405</th>\n",
       "      <td>NaN</td>\n",
       "      <td>17.547621</td>\n",
       "      <td>14.5</td>\n",
       "      <td>11.0</td>\n",
       "      <td>17.5</td>\n",
       "    </tr>\n",
       "    <tr>\n",
       "      <th>52406</th>\n",
       "      <td>NaN</td>\n",
       "      <td>17.547621</td>\n",
       "      <td>14.5</td>\n",
       "      <td>11.0</td>\n",
       "      <td>17.5</td>\n",
       "    </tr>\n",
       "    <tr>\n",
       "      <th>52407</th>\n",
       "      <td>NaN</td>\n",
       "      <td>17.547621</td>\n",
       "      <td>14.5</td>\n",
       "      <td>11.0</td>\n",
       "      <td>17.5</td>\n",
       "    </tr>\n",
       "  </tbody>\n",
       "</table>\n",
       "<p>52408 rows × 5 columns</p>\n",
       "</div>"
      ],
      "text/plain": [
       "       Frontage  Frontage_mean  Frontage_median  Frontage_mode  Frontage_ffill\n",
       "0          13.5      13.500000             13.5           13.5            13.5\n",
       "1          23.5      23.500000             23.5           23.5            23.5\n",
       "2          26.5      26.500000             26.5           26.5            26.5\n",
       "3           NaN      17.547621             14.5           11.0            26.5\n",
       "4          12.5      12.500000             12.5           12.5            12.5\n",
       "...         ...            ...              ...            ...             ...\n",
       "52403       NaN      17.547621             14.5           11.0            17.5\n",
       "52404       NaN      17.547621             14.5           11.0            17.5\n",
       "52405       NaN      17.547621             14.5           11.0            17.5\n",
       "52406       NaN      17.547621             14.5           11.0            17.5\n",
       "52407       NaN      17.547621             14.5           11.0            17.5\n",
       "\n",
       "[52408 rows x 5 columns]"
      ]
     },
     "execution_count": 55,
     "metadata": {},
     "output_type": "execute_result"
    }
   ],
   "source": [
    "sample_data"
   ]
  },
  {
   "cell_type": "code",
   "execution_count": 56,
   "id": "3e2aab79-1043-499c-9147-18f41b777982",
   "metadata": {
    "tags": []
   },
   "outputs": [
    {
     "name": "stderr",
     "output_type": "stream",
     "text": [
      "C:\\Users\\Deepika Dutt\\AppData\\Local\\Temp\\ipykernel_24280\\1921051552.py:1: SettingWithCopyWarning: \n",
      "A value is trying to be set on a copy of a slice from a DataFrame.\n",
      "Try using .loc[row_indexer,col_indexer] = value instead\n",
      "\n",
      "See the caveats in the documentation: https://pandas.pydata.org/pandas-docs/stable/user_guide/indexing.html#returning-a-view-versus-a-copy\n",
      "  sample_data['Frontage_bfill'] = sample_data['Frontage'].fillna(method = 'bfill')\n"
     ]
    }
   ],
   "source": [
    "sample_data['Frontage_bfill'] = sample_data['Frontage'].fillna(method = 'bfill')"
   ]
  },
  {
   "cell_type": "code",
   "execution_count": 57,
   "id": "51589d0f-f00d-467f-b320-45f3698bfec3",
   "metadata": {
    "tags": []
   },
   "outputs": [
    {
     "data": {
      "text/html": [
       "<div>\n",
       "<style scoped>\n",
       "    .dataframe tbody tr th:only-of-type {\n",
       "        vertical-align: middle;\n",
       "    }\n",
       "\n",
       "    .dataframe tbody tr th {\n",
       "        vertical-align: top;\n",
       "    }\n",
       "\n",
       "    .dataframe thead th {\n",
       "        text-align: right;\n",
       "    }\n",
       "</style>\n",
       "<table border=\"1\" class=\"dataframe\">\n",
       "  <thead>\n",
       "    <tr style=\"text-align: right;\">\n",
       "      <th></th>\n",
       "      <th>Frontage</th>\n",
       "      <th>Frontage_mean</th>\n",
       "      <th>Frontage_median</th>\n",
       "      <th>Frontage_mode</th>\n",
       "      <th>Frontage_ffill</th>\n",
       "      <th>Frontage_bfill</th>\n",
       "    </tr>\n",
       "  </thead>\n",
       "  <tbody>\n",
       "    <tr>\n",
       "      <th>0</th>\n",
       "      <td>13.5</td>\n",
       "      <td>13.500000</td>\n",
       "      <td>13.5</td>\n",
       "      <td>13.5</td>\n",
       "      <td>13.5</td>\n",
       "      <td>13.5</td>\n",
       "    </tr>\n",
       "    <tr>\n",
       "      <th>1</th>\n",
       "      <td>23.5</td>\n",
       "      <td>23.500000</td>\n",
       "      <td>23.5</td>\n",
       "      <td>23.5</td>\n",
       "      <td>23.5</td>\n",
       "      <td>23.5</td>\n",
       "    </tr>\n",
       "    <tr>\n",
       "      <th>2</th>\n",
       "      <td>26.5</td>\n",
       "      <td>26.500000</td>\n",
       "      <td>26.5</td>\n",
       "      <td>26.5</td>\n",
       "      <td>26.5</td>\n",
       "      <td>26.5</td>\n",
       "    </tr>\n",
       "    <tr>\n",
       "      <th>3</th>\n",
       "      <td>NaN</td>\n",
       "      <td>17.547621</td>\n",
       "      <td>14.5</td>\n",
       "      <td>11.0</td>\n",
       "      <td>26.5</td>\n",
       "      <td>12.5</td>\n",
       "    </tr>\n",
       "    <tr>\n",
       "      <th>4</th>\n",
       "      <td>12.5</td>\n",
       "      <td>12.500000</td>\n",
       "      <td>12.5</td>\n",
       "      <td>12.5</td>\n",
       "      <td>12.5</td>\n",
       "      <td>12.5</td>\n",
       "    </tr>\n",
       "    <tr>\n",
       "      <th>...</th>\n",
       "      <td>...</td>\n",
       "      <td>...</td>\n",
       "      <td>...</td>\n",
       "      <td>...</td>\n",
       "      <td>...</td>\n",
       "      <td>...</td>\n",
       "    </tr>\n",
       "    <tr>\n",
       "      <th>52403</th>\n",
       "      <td>NaN</td>\n",
       "      <td>17.547621</td>\n",
       "      <td>14.5</td>\n",
       "      <td>11.0</td>\n",
       "      <td>17.5</td>\n",
       "      <td>NaN</td>\n",
       "    </tr>\n",
       "    <tr>\n",
       "      <th>52404</th>\n",
       "      <td>NaN</td>\n",
       "      <td>17.547621</td>\n",
       "      <td>14.5</td>\n",
       "      <td>11.0</td>\n",
       "      <td>17.5</td>\n",
       "      <td>NaN</td>\n",
       "    </tr>\n",
       "    <tr>\n",
       "      <th>52405</th>\n",
       "      <td>NaN</td>\n",
       "      <td>17.547621</td>\n",
       "      <td>14.5</td>\n",
       "      <td>11.0</td>\n",
       "      <td>17.5</td>\n",
       "      <td>NaN</td>\n",
       "    </tr>\n",
       "    <tr>\n",
       "      <th>52406</th>\n",
       "      <td>NaN</td>\n",
       "      <td>17.547621</td>\n",
       "      <td>14.5</td>\n",
       "      <td>11.0</td>\n",
       "      <td>17.5</td>\n",
       "      <td>NaN</td>\n",
       "    </tr>\n",
       "    <tr>\n",
       "      <th>52407</th>\n",
       "      <td>NaN</td>\n",
       "      <td>17.547621</td>\n",
       "      <td>14.5</td>\n",
       "      <td>11.0</td>\n",
       "      <td>17.5</td>\n",
       "      <td>NaN</td>\n",
       "    </tr>\n",
       "  </tbody>\n",
       "</table>\n",
       "<p>52408 rows × 6 columns</p>\n",
       "</div>"
      ],
      "text/plain": [
       "       Frontage  Frontage_mean  Frontage_median  Frontage_mode  \\\n",
       "0          13.5      13.500000             13.5           13.5   \n",
       "1          23.5      23.500000             23.5           23.5   \n",
       "2          26.5      26.500000             26.5           26.5   \n",
       "3           NaN      17.547621             14.5           11.0   \n",
       "4          12.5      12.500000             12.5           12.5   \n",
       "...         ...            ...              ...            ...   \n",
       "52403       NaN      17.547621             14.5           11.0   \n",
       "52404       NaN      17.547621             14.5           11.0   \n",
       "52405       NaN      17.547621             14.5           11.0   \n",
       "52406       NaN      17.547621             14.5           11.0   \n",
       "52407       NaN      17.547621             14.5           11.0   \n",
       "\n",
       "       Frontage_ffill  Frontage_bfill  \n",
       "0                13.5            13.5  \n",
       "1                23.5            23.5  \n",
       "2                26.5            26.5  \n",
       "3                26.5            12.5  \n",
       "4                12.5            12.5  \n",
       "...               ...             ...  \n",
       "52403            17.5             NaN  \n",
       "52404            17.5             NaN  \n",
       "52405            17.5             NaN  \n",
       "52406            17.5             NaN  \n",
       "52407            17.5             NaN  \n",
       "\n",
       "[52408 rows x 6 columns]"
      ]
     },
     "execution_count": 57,
     "metadata": {},
     "output_type": "execute_result"
    }
   ],
   "source": [
    "sample_data"
   ]
  },
  {
   "cell_type": "code",
   "execution_count": 58,
   "id": "fa790e03-e0ab-42b7-8211-48fbc581c952",
   "metadata": {
    "tags": []
   },
   "outputs": [
    {
     "name": "stderr",
     "output_type": "stream",
     "text": [
      "C:\\Users\\Deepika Dutt\\AppData\\Local\\Temp\\ipykernel_24280\\1697669284.py:1: SettingWithCopyWarning: \n",
      "A value is trying to be set on a copy of a slice from a DataFrame.\n",
      "Try using .loc[row_indexer,col_indexer] = value instead\n",
      "\n",
      "See the caveats in the documentation: https://pandas.pydata.org/pandas-docs/stable/user_guide/indexing.html#returning-a-view-versus-a-copy\n",
      "  sample_data['Frontage_interpolate'] = sample_data['Frontage'].interpolate()\n"
     ]
    }
   ],
   "source": [
    "sample_data['Frontage_interpolate'] = sample_data['Frontage'].interpolate()"
   ]
  },
  {
   "cell_type": "code",
   "execution_count": 59,
   "id": "49dda709-adf5-4f85-8d0a-2a008a8c5115",
   "metadata": {
    "tags": []
   },
   "outputs": [
    {
     "data": {
      "text/html": [
       "<div>\n",
       "<style scoped>\n",
       "    .dataframe tbody tr th:only-of-type {\n",
       "        vertical-align: middle;\n",
       "    }\n",
       "\n",
       "    .dataframe tbody tr th {\n",
       "        vertical-align: top;\n",
       "    }\n",
       "\n",
       "    .dataframe thead th {\n",
       "        text-align: right;\n",
       "    }\n",
       "</style>\n",
       "<table border=\"1\" class=\"dataframe\">\n",
       "  <thead>\n",
       "    <tr style=\"text-align: right;\">\n",
       "      <th></th>\n",
       "      <th>Frontage</th>\n",
       "      <th>Frontage_mean</th>\n",
       "      <th>Frontage_median</th>\n",
       "      <th>Frontage_mode</th>\n",
       "      <th>Frontage_ffill</th>\n",
       "      <th>Frontage_bfill</th>\n",
       "      <th>Frontage_interpolate</th>\n",
       "    </tr>\n",
       "  </thead>\n",
       "  <tbody>\n",
       "    <tr>\n",
       "      <th>0</th>\n",
       "      <td>13.5</td>\n",
       "      <td>13.500000</td>\n",
       "      <td>13.5</td>\n",
       "      <td>13.5</td>\n",
       "      <td>13.5</td>\n",
       "      <td>13.5</td>\n",
       "      <td>13.5</td>\n",
       "    </tr>\n",
       "    <tr>\n",
       "      <th>1</th>\n",
       "      <td>23.5</td>\n",
       "      <td>23.500000</td>\n",
       "      <td>23.5</td>\n",
       "      <td>23.5</td>\n",
       "      <td>23.5</td>\n",
       "      <td>23.5</td>\n",
       "      <td>23.5</td>\n",
       "    </tr>\n",
       "    <tr>\n",
       "      <th>2</th>\n",
       "      <td>26.5</td>\n",
       "      <td>26.500000</td>\n",
       "      <td>26.5</td>\n",
       "      <td>26.5</td>\n",
       "      <td>26.5</td>\n",
       "      <td>26.5</td>\n",
       "      <td>26.5</td>\n",
       "    </tr>\n",
       "    <tr>\n",
       "      <th>3</th>\n",
       "      <td>NaN</td>\n",
       "      <td>17.547621</td>\n",
       "      <td>14.5</td>\n",
       "      <td>11.0</td>\n",
       "      <td>26.5</td>\n",
       "      <td>12.5</td>\n",
       "      <td>19.5</td>\n",
       "    </tr>\n",
       "    <tr>\n",
       "      <th>4</th>\n",
       "      <td>12.5</td>\n",
       "      <td>12.500000</td>\n",
       "      <td>12.5</td>\n",
       "      <td>12.5</td>\n",
       "      <td>12.5</td>\n",
       "      <td>12.5</td>\n",
       "      <td>12.5</td>\n",
       "    </tr>\n",
       "    <tr>\n",
       "      <th>...</th>\n",
       "      <td>...</td>\n",
       "      <td>...</td>\n",
       "      <td>...</td>\n",
       "      <td>...</td>\n",
       "      <td>...</td>\n",
       "      <td>...</td>\n",
       "      <td>...</td>\n",
       "    </tr>\n",
       "    <tr>\n",
       "      <th>52403</th>\n",
       "      <td>NaN</td>\n",
       "      <td>17.547621</td>\n",
       "      <td>14.5</td>\n",
       "      <td>11.0</td>\n",
       "      <td>17.5</td>\n",
       "      <td>NaN</td>\n",
       "      <td>17.5</td>\n",
       "    </tr>\n",
       "    <tr>\n",
       "      <th>52404</th>\n",
       "      <td>NaN</td>\n",
       "      <td>17.547621</td>\n",
       "      <td>14.5</td>\n",
       "      <td>11.0</td>\n",
       "      <td>17.5</td>\n",
       "      <td>NaN</td>\n",
       "      <td>17.5</td>\n",
       "    </tr>\n",
       "    <tr>\n",
       "      <th>52405</th>\n",
       "      <td>NaN</td>\n",
       "      <td>17.547621</td>\n",
       "      <td>14.5</td>\n",
       "      <td>11.0</td>\n",
       "      <td>17.5</td>\n",
       "      <td>NaN</td>\n",
       "      <td>17.5</td>\n",
       "    </tr>\n",
       "    <tr>\n",
       "      <th>52406</th>\n",
       "      <td>NaN</td>\n",
       "      <td>17.547621</td>\n",
       "      <td>14.5</td>\n",
       "      <td>11.0</td>\n",
       "      <td>17.5</td>\n",
       "      <td>NaN</td>\n",
       "      <td>17.5</td>\n",
       "    </tr>\n",
       "    <tr>\n",
       "      <th>52407</th>\n",
       "      <td>NaN</td>\n",
       "      <td>17.547621</td>\n",
       "      <td>14.5</td>\n",
       "      <td>11.0</td>\n",
       "      <td>17.5</td>\n",
       "      <td>NaN</td>\n",
       "      <td>17.5</td>\n",
       "    </tr>\n",
       "  </tbody>\n",
       "</table>\n",
       "<p>52408 rows × 7 columns</p>\n",
       "</div>"
      ],
      "text/plain": [
       "       Frontage  Frontage_mean  Frontage_median  Frontage_mode  \\\n",
       "0          13.5      13.500000             13.5           13.5   \n",
       "1          23.5      23.500000             23.5           23.5   \n",
       "2          26.5      26.500000             26.5           26.5   \n",
       "3           NaN      17.547621             14.5           11.0   \n",
       "4          12.5      12.500000             12.5           12.5   \n",
       "...         ...            ...              ...            ...   \n",
       "52403       NaN      17.547621             14.5           11.0   \n",
       "52404       NaN      17.547621             14.5           11.0   \n",
       "52405       NaN      17.547621             14.5           11.0   \n",
       "52406       NaN      17.547621             14.5           11.0   \n",
       "52407       NaN      17.547621             14.5           11.0   \n",
       "\n",
       "       Frontage_ffill  Frontage_bfill  Frontage_interpolate  \n",
       "0                13.5            13.5                  13.5  \n",
       "1                23.5            23.5                  23.5  \n",
       "2                26.5            26.5                  26.5  \n",
       "3                26.5            12.5                  19.5  \n",
       "4                12.5            12.5                  12.5  \n",
       "...               ...             ...                   ...  \n",
       "52403            17.5             NaN                  17.5  \n",
       "52404            17.5             NaN                  17.5  \n",
       "52405            17.5             NaN                  17.5  \n",
       "52406            17.5             NaN                  17.5  \n",
       "52407            17.5             NaN                  17.5  \n",
       "\n",
       "[52408 rows x 7 columns]"
      ]
     },
     "execution_count": 59,
     "metadata": {},
     "output_type": "execute_result"
    }
   ],
   "source": [
    "sample_data"
   ]
  },
  {
   "cell_type": "code",
   "execution_count": 61,
   "id": "a00b2cd4-76e1-45d4-ae21-ac0d35f3291a",
   "metadata": {
    "tags": []
   },
   "outputs": [
    {
     "data": {
      "text/html": [
       "<div>\n",
       "<style scoped>\n",
       "    .dataframe tbody tr th:only-of-type {\n",
       "        vertical-align: middle;\n",
       "    }\n",
       "\n",
       "    .dataframe tbody tr th {\n",
       "        vertical-align: top;\n",
       "    }\n",
       "\n",
       "    .dataframe thead th {\n",
       "        text-align: right;\n",
       "    }\n",
       "</style>\n",
       "<table border=\"1\" class=\"dataframe\">\n",
       "  <thead>\n",
       "    <tr style=\"text-align: right;\">\n",
       "      <th></th>\n",
       "      <th>Frontage</th>\n",
       "      <th>Frontage_mean</th>\n",
       "      <th>Frontage_median</th>\n",
       "      <th>Frontage_mode</th>\n",
       "      <th>Frontage_ffill</th>\n",
       "      <th>Frontage_bfill</th>\n",
       "      <th>Frontage_interpolate</th>\n",
       "    </tr>\n",
       "  </thead>\n",
       "  <tbody>\n",
       "    <tr>\n",
       "      <th>count</th>\n",
       "      <td>28941.000000</td>\n",
       "      <td>52408.000000</td>\n",
       "      <td>52408.000000</td>\n",
       "      <td>52408.000000</td>\n",
       "      <td>52408.000000</td>\n",
       "      <td>52393.000000</td>\n",
       "      <td>52408.000000</td>\n",
       "    </tr>\n",
       "    <tr>\n",
       "      <th>mean</th>\n",
       "      <td>17.547621</td>\n",
       "      <td>17.547621</td>\n",
       "      <td>16.182972</td>\n",
       "      <td>14.615759</td>\n",
       "      <td>18.418871</td>\n",
       "      <td>18.131153</td>\n",
       "      <td>18.274922</td>\n",
       "    </tr>\n",
       "    <tr>\n",
       "      <th>std</th>\n",
       "      <td>10.480617</td>\n",
       "      <td>7.788278</td>\n",
       "      <td>7.934355</td>\n",
       "      <td>8.441468</td>\n",
       "      <td>11.097766</td>\n",
       "      <td>10.772948</td>\n",
       "      <td>9.848765</td>\n",
       "    </tr>\n",
       "    <tr>\n",
       "      <th>min</th>\n",
       "      <td>0.500000</td>\n",
       "      <td>0.500000</td>\n",
       "      <td>0.500000</td>\n",
       "      <td>0.500000</td>\n",
       "      <td>0.500000</td>\n",
       "      <td>0.500000</td>\n",
       "      <td>0.500000</td>\n",
       "    </tr>\n",
       "    <tr>\n",
       "      <th>25%</th>\n",
       "      <td>11.000000</td>\n",
       "      <td>14.000000</td>\n",
       "      <td>14.000000</td>\n",
       "      <td>11.000000</td>\n",
       "      <td>11.000000</td>\n",
       "      <td>11.000000</td>\n",
       "      <td>11.700000</td>\n",
       "    </tr>\n",
       "    <tr>\n",
       "      <th>50%</th>\n",
       "      <td>14.500000</td>\n",
       "      <td>17.547621</td>\n",
       "      <td>14.500000</td>\n",
       "      <td>11.000000</td>\n",
       "      <td>15.000000</td>\n",
       "      <td>15.000000</td>\n",
       "      <td>15.500000</td>\n",
       "    </tr>\n",
       "    <tr>\n",
       "      <th>75%</th>\n",
       "      <td>20.000000</td>\n",
       "      <td>17.547621</td>\n",
       "      <td>15.000000</td>\n",
       "      <td>15.000000</td>\n",
       "      <td>21.500000</td>\n",
       "      <td>21.000000</td>\n",
       "      <td>21.818182</td>\n",
       "    </tr>\n",
       "    <tr>\n",
       "      <th>max</th>\n",
       "      <td>50.000000</td>\n",
       "      <td>50.000000</td>\n",
       "      <td>50.000000</td>\n",
       "      <td>50.000000</td>\n",
       "      <td>50.000000</td>\n",
       "      <td>50.000000</td>\n",
       "      <td>50.000000</td>\n",
       "    </tr>\n",
       "  </tbody>\n",
       "</table>\n",
       "</div>"
      ],
      "text/plain": [
       "           Frontage  Frontage_mean  Frontage_median  Frontage_mode  \\\n",
       "count  28941.000000   52408.000000     52408.000000   52408.000000   \n",
       "mean      17.547621      17.547621        16.182972      14.615759   \n",
       "std       10.480617       7.788278         7.934355       8.441468   \n",
       "min        0.500000       0.500000         0.500000       0.500000   \n",
       "25%       11.000000      14.000000        14.000000      11.000000   \n",
       "50%       14.500000      17.547621        14.500000      11.000000   \n",
       "75%       20.000000      17.547621        15.000000      15.000000   \n",
       "max       50.000000      50.000000        50.000000      50.000000   \n",
       "\n",
       "       Frontage_ffill  Frontage_bfill  Frontage_interpolate  \n",
       "count    52408.000000    52393.000000          52408.000000  \n",
       "mean        18.418871       18.131153             18.274922  \n",
       "std         11.097766       10.772948              9.848765  \n",
       "min          0.500000        0.500000              0.500000  \n",
       "25%         11.000000       11.000000             11.700000  \n",
       "50%         15.000000       15.000000             15.500000  \n",
       "75%         21.500000       21.000000             21.818182  \n",
       "max         50.000000       50.000000             50.000000  "
      ]
     },
     "execution_count": 61,
     "metadata": {},
     "output_type": "execute_result"
    }
   ],
   "source": [
    "sample_data.describe()"
   ]
  },
  {
   "cell_type": "code",
   "execution_count": null,
   "id": "b72d1ed9-bfde-4a44-9440-afbdb50ad64a",
   "metadata": {},
   "outputs": [],
   "source": []
  }
 ],
 "metadata": {
  "kernelspec": {
   "display_name": "Python 3 (ipykernel)",
   "language": "python",
   "name": "python3"
  },
  "language_info": {
   "codemirror_mode": {
    "name": "ipython",
    "version": 3
   },
   "file_extension": ".py",
   "mimetype": "text/x-python",
   "name": "python",
   "nbconvert_exporter": "python",
   "pygments_lexer": "ipython3",
   "version": "3.11.5"
  }
 },
 "nbformat": 4,
 "nbformat_minor": 5
}
